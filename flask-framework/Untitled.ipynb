{
 "cells": [
  {
   "cell_type": "code",
   "execution_count": null,
   "metadata": {},
   "outputs": [
    {
     "name": "stdout",
     "output_type": "stream",
     "text": [
      " * Serving Flask app \"__main__\" (lazy loading)\n",
      " * Environment: production\n",
      "   WARNING: This is a development server. Do not use it in a production deployment.\n",
      "   Use a production WSGI server instead.\n",
      " * Debug mode: off\n"
     ]
    },
    {
     "name": "stderr",
     "output_type": "stream",
     "text": [
      " * Running on http://127.0.0.1:5000/ (Press CTRL+C to quit)\n",
      "127.0.0.1 - - [17/Jul/2021 20:50:39] \"\u001b[37mGET / HTTP/1.1\u001b[0m\" 200 -\n"
     ]
    },
    {
     "name": "stdout",
     "output_type": "stream",
     "text": [
      "start\n",
      "<Request 'http://127.0.0.1:5000/' [GET]>\n",
      "done\n"
     ]
    }
   ],
   "source": [
    "import flask\n",
    "from flask import request\n",
    "\n",
    "\n",
    "from threading import Thread\n",
    "import sys\n",
    "import socket\n",
    "from time import sleep\n",
    "import time\n",
    "server = flask.Flask(__name__)\n",
    "\n",
    "hostname = socket.gethostname()\n",
    "local_ip = socket.gethostbyname(hostname)\n",
    "\n",
    "\n",
    "class Compute(Thread):\n",
    "    def __init__(self, request):\n",
    "        Thread.__init__(self)\n",
    "        self.request = request\n",
    "\n",
    "    def run(self):\n",
    "        print(\"start\")\n",
    "        time.sleep(5)\n",
    "        print(self.request)\n",
    "        print(\"done\")\n",
    "\n",
    "\n",
    "\n",
    "\n",
    "@server.route('/', methods=[\"GET\"])\n",
    "def home():\n",
    "    msg = 'Hello World!'\n",
    "    thread_a = Compute(request.__copy__())\n",
    "    thread_a.start()\n",
    "\n",
    "    return msg\n",
    "\n",
    "   ## return hostname +\" \" +local_ip\n",
    "\n",
    "server.run()"
   ]
  },
  {
   "cell_type": "code",
   "execution_count": null,
   "metadata": {},
   "outputs": [],
   "source": [
    "server.run()"
   ]
  }
 ],
 "metadata": {
  "kernelspec": {
   "display_name": "Python 3",
   "language": "python",
   "name": "python3"
  },
  "language_info": {
   "codemirror_mode": {
    "name": "ipython",
    "version": 3
   },
   "file_extension": ".py",
   "mimetype": "text/x-python",
   "name": "python",
   "nbconvert_exporter": "python",
   "pygments_lexer": "ipython3",
   "version": "3.7.6"
  }
 },
 "nbformat": 4,
 "nbformat_minor": 4
}
