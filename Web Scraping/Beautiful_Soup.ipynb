{
 "cells": [
  {
   "cell_type": "code",
   "execution_count": 33,
   "metadata": {},
   "outputs": [
    {
     "name": "stdout",
     "output_type": "stream",
     "text": [
      "<div class=\"thumbnail\">\n",
      "<img alt=\"item\" class=\"img-responsive\" src=\"/webscraper-python-codedamn-classroom-website/cart2.png\"/>\n",
      "<div class=\"caption\">\n",
      "<h4 class=\"pull-right price\">$1139.54</h4>\n",
      "<h4>\n",
      "<a class=\"title\" href=\"/webscraper-python-codedamn-classroom-website/test-sites/e-commerce/allinone/product/593\" title=\"Asus AsusPro Advanced BU401LA-FA271G Dark Grey\">Asus AsusPro Adv...</a>\n",
      "</h4>\n",
      "<p class=\"description\">\n",
      "\t\t\t\t\t\t\t\t\t\t\tAsus AsusPro Advanced BU401LA-FA271G Dark Grey,\n",
      "\t\t\t\t\t\t\t\t\t\t\t14\", Core i5-4210U, 4GB, 128GB SSD, Win7 Pro 64bit,\n",
      "\t\t\t\t\t\t\t\t\t\t\tENG\n",
      "\t\t\t\t\t\t\t\t\t\t</p>\n",
      "</div>\n",
      "<div class=\"ratings\">\n",
      "<p class=\"pull-right\">7 reviews</p>\n",
      "<p data-rating=\"3\">\n",
      "<span class=\"glyphicon glyphicon-star\"></span>\n",
      "<span class=\"glyphicon glyphicon-star\"></span>\n",
      "<span class=\"glyphicon glyphicon-star\"></span>\n",
      "</p>\n",
      "</div>\n",
      "</div>\n",
      "_____________________________________________________________________________\n",
      "Asus AsusPro Adv...\n",
      "_____________________________________________________________________________\n",
      "\n",
      "7 reviews\n",
      "\n",
      "\n",
      "\n",
      "\n",
      "\n",
      "\n",
      "_____________________________________________________________________________\n",
      "<div class=\"thumbnail\">\n",
      "<img alt=\"item\" class=\"img-responsive\" src=\"/webscraper-python-codedamn-classroom-website/cart2.png\"/>\n",
      "<div class=\"caption\">\n",
      "<h4 class=\"pull-right price\">$1101.83</h4>\n",
      "<h4>\n",
      "<a class=\"title\" href=\"/webscraper-python-codedamn-classroom-website/test-sites/e-commerce/allinone/product/583\" title=\"Asus ROG Strix GL553VD-DM535T\">Asus ROG Strix G...</a>\n",
      "</h4>\n",
      "<p class=\"description\">\n",
      "\t\t\t\t\t\t\t\t\t\t\tApple MacBook Air 13.3\", Core i5 1.8GHz, 8GB, 128GB\n",
      "\t\t\t\t\t\t\t\t\t\t\tSSD, Intel HD 4000, RUS\n",
      "\t\t\t\t\t\t\t\t\t\t</p>\n",
      "</div>\n",
      "<div class=\"ratings\">\n",
      "<p class=\"pull-right\">4 reviews</p>\n",
      "<p data-rating=\"2\">\n",
      "<span class=\"glyphicon glyphicon-star\"></span>\n",
      "<span class=\"glyphicon glyphicon-star\"></span>\n",
      "</p>\n",
      "</div>\n",
      "</div>\n",
      "_____________________________________________________________________________\n",
      "Asus ROG Strix G...\n",
      "_____________________________________________________________________________\n",
      "\n",
      "4 reviews\n",
      "\n",
      "\n",
      "\n",
      "\n",
      "\n",
      "_____________________________________________________________________________\n",
      "<div class=\"thumbnail\">\n",
      "<img alt=\"item\" class=\"img-responsive\" src=\"/webscraper-python-codedamn-classroom-website/cart2.png\"/>\n",
      "<div class=\"caption\">\n",
      "<h4 class=\"pull-right price\">$494.71</h4>\n",
      "<h4>\n",
      "<a class=\"title\" href=\"/webscraper-python-codedamn-classroom-website/test-sites/e-commerce/allinone/product/576\" title=\"Acer Aspire 3 A315-51 Black\">Acer Aspire 3 A3...</a>\n",
      "</h4>\n",
      "<p class=\"description\">\n",
      "\t\t\t\t\t\t\t\t\t\t\tAcer Aspire 3 A315-51 Black, 15.6\" FHD, Core\n",
      "\t\t\t\t\t\t\t\t\t\t\ti3-7100U, 4GB, 500GB + 128GB SSD, Windows 10 Home\n",
      "\t\t\t\t\t\t\t\t\t\t</p>\n",
      "</div>\n",
      "<div class=\"ratings\">\n",
      "<p class=\"pull-right\">2 reviews</p>\n",
      "<p data-rating=\"4\">\n",
      "<span class=\"glyphicon glyphicon-star\"></span>\n",
      "<span class=\"glyphicon glyphicon-star\"></span>\n",
      "<span class=\"glyphicon glyphicon-star\"></span>\n",
      "<span class=\"glyphicon glyphicon-star\"></span>\n",
      "</p>\n",
      "</div>\n",
      "</div>\n",
      "_____________________________________________________________________________\n",
      "Acer Aspire 3 A3...\n",
      "_____________________________________________________________________________\n",
      "\n",
      "2 reviews\n",
      "\n",
      "\n",
      "\n",
      "\n",
      "\n",
      "\n",
      "\n",
      "_____________________________________________________________________________\n",
      "/n/n/n/n________________________________________________________________________________\n",
      "[{'title': 'Asus AsusPro Adv...', 'review': '7 reviews'}, {'title': 'Asus ROG Strix G...', 'review': '4 reviews'}, {'title': 'Acer Aspire 3 A3...', 'review': '2 reviews'}]\n"
     ]
    }
   ],
   "source": [
    "import requests\n",
    "from bs4 import BeautifulSoup\n",
    "# Make a request\n",
    "page = requests.get(\n",
    "    \"https://codedamn-classrooms.github.io/webscraper-python-codedamn-classroom-website/\")\n",
    "soup = BeautifulSoup(page.content, 'html.parser')\n",
    "\n",
    "# Create top_items as empty list\n",
    "top_items = []\n",
    "# Extract and store in top_items according to instructions on the left\n",
    "products = soup.select('div.thumbnail')\n",
    "for elem in products:\n",
    "        print(elem)\n",
    "        title = elem.select('h4 > a.title ')[0].text\n",
    "        print(\"_____________________________________________________________________________\")\n",
    "        print(title)\n",
    "        print(\"_____________________________________________________________________________\")\n",
    "        review_label = elem.select('div.ratings')[0].text\n",
    "        print(review_label)\n",
    "        print(\"_____________________________________________________________________________\")\n",
    "        info = {\n",
    "        \"title\": title.strip(),\n",
    "        \"review\": review_label.strip()\n",
    "    }\n",
    "        top_items.append(info)\n",
    "print(\"/n/n/n/n________________________________________________________________________________\")\n",
    "print(top_items)"
   ]
  },
  {
   "cell_type": "code",
   "execution_count": 64,
   "metadata": {},
   "outputs": [
    {
     "ename": "SyntaxError",
     "evalue": "EOL while scanning string literal (<ipython-input-64-a0e32bad2793>, line 15)",
     "output_type": "error",
     "traceback": [
      "\u001b[1;36m  File \u001b[1;32m\"<ipython-input-64-a0e32bad2793>\"\u001b[1;36m, line \u001b[1;32m15\u001b[0m\n\u001b[1;33m    title = soup.select('h4> a.title\")\u001b[0m\n\u001b[1;37m                                      ^\u001b[0m\n\u001b[1;31mSyntaxError\u001b[0m\u001b[1;31m:\u001b[0m EOL while scanning string literal\n"
     ]
    }
   ],
   "source": [
    "## import requests\n",
    "from bs4 import BeautifulSoup\n",
    "# Make a request\n",
    "page = requests.get(\n",
    "    \"https://codedamn-classrooms.github.io/webscraper-python-codedamn-classroom-website/\")\n",
    "soup = BeautifulSoup(page.content, 'html.parser')\n",
    "\n",
    "# Create top_items as empty list\n",
    "top_items = []\n",
    "# Extract and store in top_items according to instructions on the left\n",
    "products = soup.select('div.thumbnail')\n",
    "for elem in products:\n",
    "       a=0\n",
    "        # print(elem.select(\"h4> a.title\")[0].text)\n",
    "title = soup.select('h4> a.title\")\n",
    "print(title)"
   ]
  },
  {
   "cell_type": "code",
   "execution_count": 1,
   "metadata": {},
   "outputs": [
    {
     "name": "stdout",
     "output_type": "stream",
     "text": [
      "[{'src': '/webscraper-python-codedamn-classroom-website/logo_white.svg', 'alt': 'Web Scraper'}, {'src': '/webscraper-python-codedamn-classroom-website/cart2.png', 'alt': 'item'}, {'src': '/webscraper-python-codedamn-classroom-website/cart2.png', 'alt': 'item'}, {'src': '/webscraper-python-codedamn-classroom-website/cart2.png', 'alt': 'item'}, {'src': '/webscraper-python-codedamn-classroom-website/fbicon.png', 'alt': 'Web Scraper on Facebook'}, {'src': '/webscraper-python-codedamn-classroom-website/twicon.png', 'alt': 'Web Scraper on Twitter'}]\n"
     ]
    }
   ],
   "source": [
    "import requests\n",
    "from bs4 import BeautifulSoup\n",
    "# Make a request\n",
    "page = requests.get(\n",
    "    \"https://codedamn-classrooms.github.io/webscraper-python-codedamn-classroom-website/\")\n",
    "soup = BeautifulSoup(page.content, 'html.parser')\n",
    "\n",
    "# Create top_items as empty list\n",
    "image_data = []\n",
    "\n",
    "# Extract and store in top_items according to instructions on the left\n",
    "images = soup.select('img')\n",
    "for image in images:\n",
    "    src = image.get('src')\n",
    "    alt = image.get('alt')\n",
    "    image_data.append({\"src\": src, \"alt\": alt})\n",
    "\n",
    "print(image_data)"
   ]
  },
  {
   "cell_type": "code",
   "execution_count": 2,
   "metadata": {},
   "outputs": [
    {
     "name": "stdout",
     "output_type": "stream",
     "text": [
      "[{'href': '', 'text': 'Toggle navigation'}, {'href': '/webscraper-python-codedamn-classroom-website/', 'text': ''}, {'href': '#page-top', 'text': ''}, {'href': '/webscraper-python-codedamn-classroom-website/', 'text': 'Web Scraper'}, {'href': '/webscraper-python-codedamn-classroom-website/cloud-scraper', 'text': 'Cloud Scraper'}, {'href': '/webscraper-python-codedamn-classroom-website/pricing', 'text': 'Pricing'}, {'href': '#section3', 'text': 'Learn'}, {'href': '/webscraper-python-codedamn-classroom-website/documentation', 'text': 'Documentation'}, {'href': '/webscraper-python-codedamn-classroom-website/tutorials', 'text': 'Video Tutorials'}, {'href': '/webscraper-python-codedamn-classroom-website/how-to-videos', 'text': 'How to'}, {'href': '/webscraper-python-codedamn-classroom-website/test-sites', 'text': 'Test Sites'}, {'href': 'https://forum.webscraper.io/', 'text': 'Forum'}, {'href': 'https://chrome.google.com/webstore/detail/web-scraper/jnhgnonknehpejjnehehllkliplmbmhn?hl=en', 'text': 'Install'}, {'href': 'https://cloud.webscraper.io/', 'text': 'Login'}, {'href': '/webscraper-python-codedamn-classroom-website/test-sites/e-commerce/allinone', 'text': 'Home'}, {'href': '/webscraper-python-codedamn-classroom-website/test-sites/e-commerce/allinone/computers', 'text': 'Computers'}, {'href': '/webscraper-python-codedamn-classroom-website/test-sites/e-commerce/allinone/phones', 'text': 'Phones'}, {'href': '/webscraper-python-codedamn-classroom-website/test-sites/e-commerce/allinone/product/593', 'text': 'Asus AsusPro Adv...'}, {'href': '/webscraper-python-codedamn-classroom-website/test-sites/e-commerce/allinone/product/583', 'text': 'Asus ROG Strix G...'}, {'href': '/webscraper-python-codedamn-classroom-website/test-sites/e-commerce/allinone/product/576', 'text': 'Acer Aspire 3 A3...'}, {'href': '/webscraper-python-codedamn-classroom-website/', 'text': 'Web Scraper browser extension'}, {'href': '/webscraper-python-codedamn-classroom-website/pricing', 'text': 'Web Scraper Cloud'}, {'href': '/webscraper-python-codedamn-classroom-website/contact', 'text': 'Contact'}, {'href': '/webscraper-python-codedamn-classroom-website/privacy-policy', 'text': 'Website Privacy Policy'}, {'href': '/webscraper-python-codedamn-classroom-website/extension-privacy-policy', 'text': 'Browser Extension Privacy Policy'}, {'href': 'http://webscraperio.us-east-1.elasticbeanstalk.com/downloads/Web_Scraper_Media_Kit.zip', 'text': 'Media kit'}, {'href': '/webscraper-python-codedamn-classroom-website/jobs', 'text': 'Jobs'}, {'href': '/webscraper-python-codedamn-classroom-website/blog', 'text': 'Blog'}, {'href': '/webscraper-python-codedamn-classroom-website/documentation', 'text': 'Documentation'}, {'href': '/webscraper-python-codedamn-classroom-website/tutorials', 'text': 'Video Tutorials'}, {'href': '/webscraper-python-codedamn-classroom-website/screenshots', 'text': 'Screenshots'}, {'href': '/webscraper-python-codedamn-classroom-website/test-sites', 'text': 'Test Sites'}, {'href': 'https://forum.webscraper.io/', 'text': 'Forum'}, {'href': 'mailto:info@webscraper.io', 'text': 'info@webscraper.io'}, {'href': 'https://www.facebook.com/webscraperio/', 'text': ''}, {'href': 'https://twitter.com/webscraperio', 'text': ''}, {'href': '#', 'text': 'Web Scraper'}]\n"
     ]
    }
   ],
   "source": [
    "import requests\n",
    "from bs4 import BeautifulSoup\n",
    "# Make a request\n",
    "page = requests.get(\n",
    "    \"https://codedamn-classrooms.github.io/webscraper-python-codedamn-classroom-website/\")\n",
    "soup = BeautifulSoup(page.content, 'html.parser')\n",
    "\n",
    "# Create top_items as empty list\n",
    "all_links = []\n",
    "\n",
    "# Extract and store in top_items according to instructions on the left\n",
    "links = soup.select('a')\n",
    "for ahref in links:\n",
    "    text = ahref.text\n",
    "    text = text.strip() if text is not None else ''\n",
    "\n",
    "    href = ahref.get('href')\n",
    "    href = href.strip() if href is not None else ''\n",
    "    all_links.append({\"href\": href, \"text\": text})\n",
    "\n",
    "print(all_links)"
   ]
  },
  {
   "cell_type": "code",
   "execution_count": 3,
   "metadata": {},
   "outputs": [],
   "source": [
    "import requests\n",
    "from bs4 import BeautifulSoup\n",
    "import csv\n",
    "# Make a request\n",
    "page = requests.get(\n",
    "    \"https://codedamn-classrooms.github.io/webscraper-python-codedamn-classroom-website/\")\n",
    "soup = BeautifulSoup(page.content, 'html.parser')\n",
    "\n",
    "# Create top_items as empty list\n",
    "all_products = []\n",
    "\n",
    "# Extract and store in top_items according to instructions on the left\n",
    "products = soup.select('div.thumbnail')\n",
    "for product in products:\n",
    "    name = product.select('h4 > a')[0].text.strip()\n",
    "    description = product.select('p.description')[0].text.strip()\n",
    "    price = product.select('h4.price')[0].text.strip()\n",
    "    reviews = product.select('div.ratings')[0].text.strip()\n",
    "    image = product.select('img')[0].get('src')\n",
    "\n",
    "    all_products.append({\n",
    "        \"name\": name,\n",
    "        \"description\": description,\n",
    "        \"price\": price,\n",
    "        \"reviews\": reviews,\n",
    "        \"image\": image\n",
    "    })\n",
    "\n",
    "keys = all_products[0].keys()\n",
    "\n",
    "with open('products.csv', 'w', newline='') as output_file:\n",
    "    dict_writer = csv.DictWriter(output_file, keys)\n",
    "    dict_writer.writeheader()\n",
    "    dict_writer.writerows(all_products)"
   ]
  },
  {
   "cell_type": "code",
   "execution_count": 202,
   "metadata": {},
   "outputs": [
    {
     "name": "stdout",
     "output_type": "stream",
     "text": [
      "https://losangeles.craigslist.org/d/for-sale/search/sss?query=3070\n",
      "200\n",
      "                                                  name    price    date  \\\n",
      "0    Gigabyte AORUS GeForce RTX 3070 MASTER Graphic...   $1,000  Jul 26   \n",
      "1    Cryptocurrency Mining Rig - Nvidia RTX 3080 30...  $10,000  Jul 26   \n",
      "2    EVGA RTX 3070 FTW3 Ultra Brand New Nvidia GeFo...     $950  Jul 26   \n",
      "3    evga rtx 3070 ftw3 ultra brand new nvidia gefo...     $950  Jul 26   \n",
      "4          ELAC Dual 12\" Powered Subwoofer With AutoEQ   $1,595  Jul 25   \n",
      "..                                                 ...      ...     ...   \n",
      "115                             Very Large Mosler Safe   $1,000  Jul 21   \n",
      "116                Gaming PC - 3070 graphics card, SSD   $2,000  Jul 12   \n",
      "117                           EVGA RTX 3070 FTW3 ULTRA     $999  Jul 12   \n",
      "118                     Gaming desktop 3070 with 5900x   $2,100  Jul 22   \n",
      "119                               RTX 3070 ASUS TUF OC   $1,100  Jul 22   \n",
      "\n",
      "                                                   url  \\\n",
      "0    https://losangeles.craigslist.org/sfv/sop/d/bu...   \n",
      "1    https://losangeles.craigslist.org/sfv/ele/d/gl...   \n",
      "2    https://losangeles.craigslist.org/sfv/sop/d/no...   \n",
      "3    https://losangeles.craigslist.org/sfv/sop/d/no...   \n",
      "4    https://losangeles.craigslist.org/wst/ele/d/lo...   \n",
      "..                                                 ...   \n",
      "115  https://santabarbara.craigslist.org/for/d/gole...   \n",
      "116  https://santabarbara.craigslist.org/ele/d/sant...   \n",
      "117  https://santabarbara.craigslist.org/sop/d/sant...   \n",
      "118  https://bakersfield.craigslist.org/sys/d/baker...   \n",
      "119  https://bakersfield.craigslist.org/ele/d/baker...   \n",
      "\n",
      "                          location  \n",
      "0                        (Burbank)  \n",
      "1                    (Los Angeles)  \n",
      "2                     (Northridge)  \n",
      "3                     (Northridge)  \n",
      "4                   (Century City)  \n",
      "..                             ...  \n",
      "115  (sba > Santa Barbara, Goleta)  \n",
      "116        (sba > Santa Barbara  )  \n",
      "117          (sba > SANTA BARBARA)  \n",
      "118            (bak > Bakersfield)  \n",
      "119            (bak > Bakersfield)  \n",
      "\n",
      "[120 rows x 5 columns]\n"
     ]
    }
   ],
   "source": [
    "import requests \n",
    "from bs4 import BeautifulSoup \n",
    "import pandas as pd \n",
    "\n",
    "#Setting up query search request\n",
    "locations = [\"losangeles\"]\n",
    "keyword = \"3070\"\n",
    "#What would be cool is to create a search dictionary -----> set up code that finds word associated with that key search word\n",
    "page = requests.get(\"https://\" + locations[0] + \".craigslist.org/d/for-sale/search/sss?query=\"+keyword)\n",
    "#Need to edit to work when error with url \n",
    "print(\"https://\" + locations[0] + \".craigslist.org/d/for-sale/search/sss?query=\"+keyword)\n",
    "try:\n",
    "    print(page.status_code)\n",
    "except:\n",
    "    print(\"error occured\")   #\"\"\"DNW needs fixing\"\"\"\n",
    "soup = BeautifulSoup(page.content, 'html.parser')\n",
    "\n",
    "#Create search-dictionary\n",
    "all_products = {\"name\": [] , \"price\": []  , \"date\": [], \"url\": [], \"location\": []}\n",
    "\n",
    "# Extract and store in top_items according to instructions on the left\n",
    "products = soup.select('li.result-row')\n",
    "count = 0\n",
    "for product in products:\n",
    "    name = product.select(\"h3 > a\")[0].text.strip()\n",
    "    price = product.select(\"span.result-price\")[0].text.strip()\n",
    "    date = product.select(\"time.result-date\")[0].text.strip()\n",
    "    url = product.select(\"h3.result-heading > a\")[0].get(\"href\")\n",
    "    \n",
    "    #Needs work to filter unwanted results it varies and sometime the location is not in the html span> tag\n",
    "    location = product.select(\"span.result-meta\")[0].find_all(\"span\")[1].text.strip()\n",
    "    \n",
    "    #REVIST\n",
    "    #probobly going to have to open up the link and go to the page then extract the image from the link \n",
    "    #img = products[0].select(\"li.result-row>a\")[0].get('src')\n",
    "    #img = products[0].select(\"li.result-row>a\")[0].get(\"href\")\n",
    "    ##l = product.select(\"h3.result-heading > a\")[0].get(\"href\")\n",
    "    '''\n",
    "    print(\"________________________________\")\n",
    "    print(name)\n",
    "    print(price)\n",
    "    print(date)\n",
    "    print(location)\n",
    "    print(url)\n",
    "    '''\n",
    "    all_products[\"name\"].append(name)\n",
    "    all_products[\"price\"].append(price)\n",
    "    all_products[\"date\"].append(date)\n",
    "    all_products[\"url\"].append(url)\n",
    "    all_products[\"location\"].append(location)\n",
    "\n",
    "df = pd.DataFrame(data= all_products)\n",
    "info  = df.to_json() \n",
    "    \n",
    "    "
   ]
  },
  {
   "cell_type": "code",
   "execution_count": 204,
   "metadata": {},
   "outputs": [
    {
     "data": {
      "text/plain": [
       "'{\"name\":{\"0\":\"Gigabyte AORUS GeForce RTX 3070 MASTER Graphics Card - New in Box\",\"1\":\"Cryptocurrency Mining Rig - Nvidia RTX 3080 3070 3060 GPU\",\"2\":\"EVGA RTX 3070 FTW3 Ultra Brand New Nvidia GeForce Graphics Card\",\"3\":\"evga rtx 3070 ftw3 ultra brand new nvidia geforce graphics card\",\"4\":\"ELAC Dual 12\\\\\" Powered Subwoofer With AutoEQ\",\"5\":\"geforce RTX ventus 3070\",\"6\":\"EVGA GeForce RTX 3070 8GB XC3 Ultra\",\"7\":\"GeForce RTX 3070 BLACK EVGA\",\"8\":\"EVGA GEFORCE RTX 3070 TI FTW3 ULTRA GAMING VIDEO CARD\",\"9\":\"ROG Strix GA15DK Gaming Desktop PC, AMD Ryzen 7 5800X, RTX 3070, 16GB\",\"10\":\"BRAND NEW EVGA GeForce RTX 3070 Ti FTW3 ULTRA GAMING, 8GB GDDR6X\",\"11\":\"Top End 4K Gaming PC | AMD Ryzen 5 3600 + Nvidia GeForce RTX 3070\",\"12\":\"Brand new in box, rtx 3070 ti Evvga ftw3 ultra\",\"13\":\"EVGA RTX 3070 FTW3 ULTRA Non-LHR Full Hashing Rate\",\"14\":\"MSI RTX 3070 Ventus 2x OC Non-LHR Full Hashing Rate\",\"15\":\"EVGA GEFORCE RTX 3070\",\"16\":\"ETH Mining Rig 3 GPUs 225MH\\\\/s 1 x RTX 3080 2 x RTX 3070\",\"17\":\"EVGA GeForce RTX 3070 FTW3 ULTRA 08G-P5-3767-KL + 500W Power Supply\",\"18\":\"Nvidia GeForce RTX 3070 Founders Edition Non-LHR Full Hash Rate\",\"19\":\"TRENCHERS * AUGER DRIVES * SWEEPERS * CEMENT MIXERS\",\"20\":\"EVGA Nvidia 1080 TI Founders Edition Hybrid\",\"21\":\"Xbox Series S 512GB Digital Edition in hand! - SEALED NEW\",\"22\":\"WANTED: INTEL XEON COMPUTER PROCESSORS, SERVERS, MEMORY, NETWORKING &\",\"23\":\"3060TI Graphics Card + Motherboard + PSU\",\"24\":\"HP Omen 25L (with or without GPU)\",\"25\":\"ASUS GeForce GTX 1650 4GB GDDR6 OC Edition GPU Graphics Card\",\"26\":\"EVGA RTX 2070 XC Gaming, 8GB GDDR6, Dual HDB Fans  RGB LED Graphics\",\"27\":\"WE BUY BUSINESS, DATA CENTER COMPUTER NETWORKING EQUIPMENT & SYSTEMS \\\\u2013\",\"28\":\"EVGA GeForce RTX 2070 SUPER FTW3 ULTRA\",\"29\":\"WE BUY INTEL XEON COMPUTER PROCESSORS - PLATINUM, GOLD, SILVER & MORE!\",\"30\":\"EVGA GeForce RTX 3090\",\"31\":\"HP Omen i9-9900k, 16GB with Asus RTX 2080 OC\",\"32\":\"850, 600, 500 watt Power Supplies\",\"33\":\"NEW EVGA GeForce RTX 3080 Ti XC3 GAMING 12G-P5-3953-KR\",\"34\":\"Gigabyte RX6800 XT AMD Radeon Gamin Video Card\",\"35\":\"MSI Gaming X Trio 1080 ti \\\\u2606~NEW~\\\\u2606\",\"36\":\"EVGA 3080 FTW3 Ultra ***Brand new sealed in box***\",\"37\":\"Gigabyte 3080 Gaming OC NEW!!!\",\"38\":\"EVGA GTX 1060 6GB SSC\",\"39\":\"MSI 5700 EVOKE OC\",\"40\":\"WE BUY BUSINESS, DATA CENTER COMPUTER NETWORKING EQUIPMENT & SYSTEMS\",\"41\":\"WE BUY INTEL XEON COMPUTER PROCESSORS & SERVER DDR4\\\\/PC4 MEMORY & MORE.\",\"42\":\"\\\\u2588 35in1 retro video game console\\\\u2588 ps5 xbox one s switch payment plans!\",\"43\":\"\\\\u2588 35in1 retro video game console\\\\u2588 ps5 xbox one s switch payment plans!\",\"44\":\"WANTED - NEW IN BOX & USED CISCO COMPUTER NETWORKING EQUIPMENT & MORE!\",\"45\":\"TRENCHERS * AUGER DRIVES * SWEEPERS * CEMENT MIXERS\",\"46\":\"TRENCHERS * AUGER DRIVES * SWEEPERS * CEMENT MIXERS\",\"47\":\"WE BUY BUSINESS, DATA CENTER COMPUTER NETWORKING EQUIPMENT & SYSTEMS\",\"48\":\"WE BUY INTEL XEON COMPUTER PROCESSORS & SERVER DDR4\\\\/PC4 MEMORY & MORE.\",\"49\":\"WTB: COMPUTER ARRAYS, HARD DRIVES, SERVERS, SYSTEMS, NETWORKING & MORE\",\"50\":\"\\\\u2588 35in1 retro video game console\\\\u2588 ps5 xbox one s switch payment plans!\",\"51\":\"\\\\u2588 35in1 retro video game console\\\\u2588 ps5 xbox one s switch payment plans!\",\"52\":\"WTB: LARGE QUANTITIES OF COMPUTER HARD DRIVES, SSD\\'s, SERVERS\\\\/MEMORY &\",\"53\":\"WE BUY USED & NEW GAMING COMPUTER GRAPHIC CARDS, GAMING SYSTEMS & MORE\",\"54\":\"WANTED LARGE QUANTITIES USED\\\\/NEW COMPUTER NETWORKING, SERVERS & MORE!\",\"55\":\"WTB: LARGE QTY\\\\u2019s OF PC\\\\u2019S, LAPTOPS, SERVERS, RAM, CPU\\\\u2019S, NETWORKING AND\",\"56\":\"\\\\ud83d\\\\udca5 TRENCHERS * AUGER DRIVES * SWEEPERS * CEMENT MIXERS\",\"57\":\"\\\\ud83d\\\\udca5 TRENCHERS * AUGER DRIVES * SWEEPERS * CEMENT MIXERS\",\"58\":\"WTB: Cisco NCS2K-400G-XP, NCS2K-100G-CK-C, NCS2K-200G-CK-C & MORE!\",\"59\":\"WE BUY COMPUTER PROCESSORS, SERVERS, MEMORY, DRIVES, NETWORKING & MORE\",\"60\":\"We BUY Cisco ASR1001, ASR1002, ASR1004, ASR1006, ASR1009 & many others\",\"61\":\"WANTED COMPUTER INTEL PROCESSORS, SERVERS, MEMORY, NETWORKING & MORE $\",\"62\":\"WANTED LARGE QUANTITIES USED\\\\/NEW COMPUTER NETWORKING, SERVERS & MORE!\",\"63\":\"\\\\u2588 35in1 retro video game console\\\\u2588 ps5 xbox one s switch payment plans!\",\"64\":\"\\\\u2588 35in1 retro video game console\\\\u2588 ps5 xbox one s switch payment plans!\",\"65\":\"WE BUY BUSINESS, DATA CENTER COMPUTER NETWORKING EQUIPMENT & SYSTEMS \\\\u2013\",\"66\":\"WE BUY INTEL XEON COMPUTER PROCESSORS - PLATINUM, GOLD, SILVER & MORE!\",\"67\":\"WANTED: INTEL XEON COMPUTER PROCESSORS, SERVERS, MEMORY, NETWORKING &\",\"68\":\"ASUS TUF Gaming GeForce RTX 3070 OC Graphics Card\",\"69\":\"MSI VENTUS 3X OC NVIDIA GEFORCE RTX 3070 Ti\",\"70\":\"3070 Founders Edition (FE)\",\"71\":\"GAMING PC DESKTOP 5600x RTX 3070\",\"72\":\"MSI 3070 Ti GAMING X TRIO\",\"73\":\"MSI - NVIDIA GeForce RTX 3070 Ti GAMING X TRIO\",\"74\":\"\\\\ud83d\\\\udca5 NVIDIA x EVGA FTW3 GeForce RTX 3070 Ti - Brand New\\\\ud83d\\\\udca5\",\"75\":\"EVGA RTX 3070 Ti FTW3 Ultra 8gb\",\"76\":\"*^ ETH \\\\/ BTC Crypto Mining Rig, RTX 3080 \\\\/ RTX 3070 \\\\/ RTX 3090  6 card\",\"77\":\"ZOTAC 3070 Ti TRINITY OC\",\"78\":\"GeForce RTX 3070 Ti\",\"79\":\"3070 Ti $1040 firm\",\"80\":\"EVGA XC3 GeForce RTX 3070 Brand New\",\"81\":\"EVGA 3070 XC3 Ultra\",\"82\":\"EVGA GeForce RTX 3070 XC3 ULTRA GAMING GPU\",\"83\":\"GTX 3070 Gaming PC Brand New\",\"84\":\"AORUS GeForce RTX 3070 MASTER 8G -- BRAND NEW!!!\",\"85\":\"RTX 3070 TI .. RTX 3060 TI\",\"86\":\"MSI GeForce RTX 3070 Ti VENTUS 3X OC 8GB GDDR6X Graphics Card\",\"87\":\"ASUS KO NVIDIA GeForce RTX 3070 OC Edition GPU\",\"88\":\"EVGA GeForce RTX 3070 Ti FTW3 ULTRA GAMING Video Card, 08G-P5-3797-KL, 8GB GDDR6\",\"89\":\"EVGA RTX 3070 Ti\",\"90\":\"ASUS KO NVIDIA GeForce RTX 3070 OC Edition\",\"91\":\"ASUS GeForce RTX 3070 TUF Gaming OC\",\"92\":\"RTX 3070 Gaming Laptop ASUS TUF i7 1TB 16GB 3200mhz Tb4 Fhd 240hz 15 i\",\"93\":\"Free\",\"94\":\"3070 TI\",\"95\":\"ASUS TUF GeForce RTX 3070 OC 8GB GDDR6 Graphics Card\",\"96\":\"Nvidia GeForce RTX 3070 FE\",\"97\":\"Nvidia RTX 3070 Founder Edition FE\",\"98\":\"Dell Optiplex 3070 micro\",\"99\":\"Gaming Trio Geforce RTX 3070ti Graphics Card (GPU Video Card) OBO\",\"100\":\"NVIDIA RTX 3070 ASUS STRIX\",\"101\":\"Zotac RTX 3070 Ti Trinity OC\",\"102\":\"CyberPower Gaming PC Sale *Liquid Cool* RTX 3060Ti\\\\/RTX 3070*Brand New*\",\"103\":\"gtx 3070\",\"104\":\"CyberPower Gaming PC Sale *Liquid Cool* RTX 3060Ti\\\\/RTX 3070*Brand New*\",\"105\":\"AMD GamingPC Gamer Master R7 3700X GeForce RTX 3070\",\"106\":\"Gaming pc i9 10900k & a 3070 ti\",\"107\":\"Gaming pc i9 10900k with a 3070 ti\",\"108\":\"Msi gaming x trio 3070 ti, trade for a 3080 LHR?\",\"109\":\"AMD GamingPC Gamer Master GeForce RTX 3070 8GB\",\"110\":\"RTX 3070 EVGA XC3 ULTRA NON LHR\",\"111\":\"3070 Non LHR\",\"112\":\"Lenovo Legion 5 Pro AMD 16\\\\\" RTX 3070 2021 model brand new\",\"113\":\"Top End 4K Gaming PC | AMD Ryzen 5 3600 + Nvidia GeForce RTX 3070\",\"114\":\"EVGA RTX 3070 Graphics Card\",\"115\":\"Very Large Mosler Safe\",\"116\":\"Gaming PC - 3070 graphics card, SSD\",\"117\":\"EVGA RTX 3070 FTW3 ULTRA\",\"118\":\"Gaming desktop 3070 with 5900x\",\"119\":\"RTX 3070 ASUS TUF OC\"},\"price\":{\"0\":\"$1,000\",\"1\":\"$10,000\",\"2\":\"$950\",\"3\":\"$950\",\"4\":\"$1,595\",\"5\":\"$800\",\"6\":\"$1,150\",\"7\":\"$1,000\",\"8\":\"$1,299\",\"9\":\"$1,996\",\"10\":\"$1,099\",\"11\":\"$2,200\",\"12\":\"$1\",\"13\":\"$975\",\"14\":\"$950\",\"15\":\"$925\",\"16\":\"$6,000\",\"17\":\"$950\",\"18\":\"$1,000\",\"19\":\"$0\",\"20\":\"$800\",\"21\":\"$380\",\"22\":\"$15,000\",\"23\":\"$1,100\",\"24\":\"$600\",\"25\":\"$325\",\"26\":\"$725\",\"27\":\"$50,000\",\"28\":\"$699\",\"29\":\"$15,000\",\"30\":\"$2,500\",\"31\":\"$1,800\",\"32\":\"$20\",\"33\":\"$1,699\",\"34\":\"$1,400\",\"35\":\"$640\",\"36\":\"$1,600\",\"37\":\"$1,500\",\"38\":\"$260\",\"39\":\"$600\",\"40\":\"$25,000\",\"41\":\"$15,000\",\"42\":\"$1\",\"43\":\"$1\",\"44\":\"$25,000\",\"45\":\"$0\",\"46\":\"$0\",\"47\":\"$25,000\",\"48\":\"$15,000\",\"49\":\"$50,000\",\"50\":\"$1\",\"51\":\"$1\",\"52\":\"$35,000\",\"53\":\"$5,000\",\"54\":\"$25,000\",\"55\":\"$25,000\",\"56\":\"$0\",\"57\":\"$0\",\"58\":\"$25,000\",\"59\":\"$100,000\",\"60\":\"$25,000\",\"61\":\"$55,000\",\"62\":\"$50,000\",\"63\":\"$1\",\"64\":\"$1\",\"65\":\"$50,000\",\"66\":\"$15,000\",\"67\":\"$15,000\",\"68\":\"$1,200\",\"69\":\"$1,100\",\"70\":\"$950\",\"71\":\"$1,650\",\"72\":\"$1,080\",\"73\":\"$1,100\",\"74\":\"$1,150\",\"75\":\"$1,150\",\"76\":\"$4,000\",\"77\":\"$960\",\"78\":\"$1,100\",\"79\":\"$1,040\",\"80\":\"$1,500\",\"81\":\"$850\",\"82\":\"$1,250\",\"83\":\"$1,695\",\"84\":\"$1\",\"85\":\"$800\",\"86\":\"$1,059\",\"87\":\"$1,250\",\"88\":\"$1,150\",\"89\":\"$1,100\",\"90\":\"$1,250\",\"91\":\"$1,050\",\"92\":\"$1,750\",\"93\":\"$0\",\"94\":\"$1,200\",\"95\":\"$1,100\",\"96\":\"$1,100\",\"97\":\"$1,050\",\"98\":\"$385\",\"99\":\"$1,150\",\"100\":\"$999\",\"101\":\"$900\",\"102\":\"$35\",\"103\":\"$2,500\",\"104\":\"$35\",\"105\":\"$1,799\",\"106\":\"$4,000\",\"107\":\"$4,000\",\"108\":\"$1,300\",\"109\":\"$1,799\",\"110\":\"$900\",\"111\":\"$850\",\"112\":\"$1,850\",\"113\":\"$2,200\",\"114\":\"$1,300\",\"115\":\"$1,000\",\"116\":\"$2,000\",\"117\":\"$999\",\"118\":\"$2,100\",\"119\":\"$1,100\"},\"date\":{\"0\":\"Jul 26\",\"1\":\"Jul 26\",\"2\":\"Jul 26\",\"3\":\"Jul 26\",\"4\":\"Jul 25\",\"5\":\"Jul 25\",\"6\":\"Jul 25\",\"7\":\"Jul 24\",\"8\":\"Jul 24\",\"9\":\"Jul 24\",\"10\":\"Jul 24\",\"11\":\"Jul 24\",\"12\":\"Jul 23\",\"13\":\"Jul 22\",\"14\":\"Jul 22\",\"15\":\"Jul 20\",\"16\":\"Jul 20\",\"17\":\"Jul 20\",\"18\":\"Jul 20\",\"19\":\"Jul 26\",\"20\":\"Jul 25\",\"21\":\"Jul 25\",\"22\":\"Jul 25\",\"23\":\"Jul 24\",\"24\":\"Jul 24\",\"25\":\"Jul 24\",\"26\":\"Jul 24\",\"27\":\"Jul 24\",\"28\":\"Jul 24\",\"29\":\"Jul 24\",\"30\":\"Jul 23\",\"31\":\"Jul 22\",\"32\":\"Jul 22\",\"33\":\"Jul 22\",\"34\":\"Jul 21\",\"35\":\"Jul 21\",\"36\":\"Jul 21\",\"37\":\"Jul 21\",\"38\":\"Jul 21\",\"39\":\"Jul 21\",\"40\":\"Jul 21\",\"41\":\"Jul 19\",\"42\":\"Jul 17\",\"43\":\"Jul 17\",\"44\":\"Jul 15\",\"45\":\"Jul 15\",\"46\":\"Jul 15\",\"47\":\"Jul 13\",\"48\":\"Jul 13\",\"49\":\"Jul 11\",\"50\":\"Jul 11\",\"51\":\"Jul 11\",\"52\":\"Jul 10\",\"53\":\"Jul  9\",\"54\":\"Jul  9\",\"55\":\"Jul  8\",\"56\":\"Jul  8\",\"57\":\"Jul  8\",\"58\":\"Jul  7\",\"59\":\"Jul  7\",\"60\":\"Jul  5\",\"61\":\"Jul  4\",\"62\":\"Jul  1\",\"63\":\"Jul  1\",\"64\":\"Jul  1\",\"65\":\"Jun 30\",\"66\":\"Jun 27\",\"67\":\"Jun 26\",\"68\":\"Jul 26\",\"69\":\"Jul 26\",\"70\":\"Jul 25\",\"71\":\"Jul 25\",\"72\":\"Jul 25\",\"73\":\"Jul 24\",\"74\":\"Jul 24\",\"75\":\"Jul 24\",\"76\":\"Jul 24\",\"77\":\"Jul 22\",\"78\":\"Jul 22\",\"79\":\"Jul 22\",\"80\":\"Jul 22\",\"81\":\"Jul 22\",\"82\":\"Jul 22\",\"83\":\"Jul 22\",\"84\":\"Jul 21\",\"85\":\"Jul 20\",\"86\":\"Jul 20\",\"87\":\"Jul 20\",\"88\":\"Jul 19\",\"89\":\"Jul 16\",\"90\":\"Jul 16\",\"91\":\"Jul 12\",\"92\":\"Jul 11\",\"93\":\"Jul  5\",\"94\":\"Jul  4\",\"95\":\"Jul  3\",\"96\":\"Jul  2\",\"97\":\"Jul  2\",\"98\":\"Jul  2\",\"99\":\"Jul 26\",\"100\":\"Jul 23\",\"101\":\"Jul 21\",\"102\":\"Jul 18\",\"103\":\"Jul 17\",\"104\":\"Jul 16\",\"105\":\"Jul 16\",\"106\":\"Jul 15\",\"107\":\"Jul 15\",\"108\":\"Jul 15\",\"109\":\"Jul 15\",\"110\":\"Jul  7\",\"111\":\"Jul  4\",\"112\":\"Jul 26\",\"113\":\"Jul 24\",\"114\":\"Jul 11\",\"115\":\"Jul 21\",\"116\":\"Jul 12\",\"117\":\"Jul 12\",\"118\":\"Jul 22\",\"119\":\"Jul 22\"},\"url\":{\"0\":\"https:\\\\/\\\\/losangeles.craigslist.org\\\\/sfv\\\\/sop\\\\/d\\\\/burbank-gigabyte-aorus-geforce-rtx-3070\\\\/7356783196.html\",\"1\":\"https:\\\\/\\\\/losangeles.craigslist.org\\\\/sfv\\\\/ele\\\\/d\\\\/glendale-cryptocurrency-mining-rig\\\\/7356781443.html\",\"2\":\"https:\\\\/\\\\/losangeles.craigslist.org\\\\/sfv\\\\/sop\\\\/d\\\\/northridge-evga-rtx-3070-ftw3-ultra\\\\/7348320901.html\",\"3\":\"https:\\\\/\\\\/losangeles.craigslist.org\\\\/sfv\\\\/sop\\\\/d\\\\/northridge-evga-rtx-3070-ftw3-ultra\\\\/7350569425.html\",\"4\":\"https:\\\\/\\\\/losangeles.craigslist.org\\\\/wst\\\\/ele\\\\/d\\\\/los-angeles-elac-dual-12-powered\\\\/7351886161.html\",\"5\":\"https:\\\\/\\\\/losangeles.craigslist.org\\\\/wst\\\\/sop\\\\/d\\\\/los-angeles-geforce-rtx-ventus-3070\\\\/7356175615.html\",\"6\":\"https:\\\\/\\\\/losangeles.craigslist.org\\\\/wst\\\\/sop\\\\/d\\\\/los-angeles-evga-geforce-rtx-gb-xc3\\\\/7344452023.html\",\"7\":\"https:\\\\/\\\\/losangeles.craigslist.org\\\\/wst\\\\/sop\\\\/d\\\\/torrance-geforce-rtx-3070-black-evga\\\\/7355869840.html\",\"8\":\"https:\\\\/\\\\/losangeles.craigslist.org\\\\/sgv\\\\/sop\\\\/d\\\\/arcadia-evga-geforce-rtx-3070-ti-ftw3\\\\/7345961799.html\",\"9\":\"https:\\\\/\\\\/losangeles.craigslist.org\\\\/sgv\\\\/sys\\\\/d\\\\/arcadia-rog-strix-ga15dk-gaming-desktop\\\\/7349601155.html\",\"10\":\"https:\\\\/\\\\/losangeles.craigslist.org\\\\/sfv\\\\/sop\\\\/d\\\\/van-nuys-brand-new-evga-geforce-rtx\\\\/7355646757.html\",\"11\":\"https:\\\\/\\\\/losangeles.craigslist.org\\\\/sfv\\\\/sys\\\\/d\\\\/simi-valley-top-end-4k-gaming-pc-amd\\\\/7352127435.html\",\"12\":\"https:\\\\/\\\\/losangeles.craigslist.org\\\\/wst\\\\/ele\\\\/d\\\\/los-angeles-brand-new-in-box-rtx-3070\\\\/7355275268.html\",\"13\":\"https:\\\\/\\\\/losangeles.craigslist.org\\\\/sgv\\\\/vgm\\\\/d\\\\/arcadia-evga-rtx-3070-ftw3-ultra-non\\\\/7351680531.html\",\"14\":\"https:\\\\/\\\\/losangeles.craigslist.org\\\\/sgv\\\\/vgm\\\\/d\\\\/arcadia-msi-rtx-3070-ventus-2x-oc-non\\\\/7351681137.html\",\"15\":\"https:\\\\/\\\\/losangeles.craigslist.org\\\\/lac\\\\/sop\\\\/d\\\\/pasadena-evga-geforce-rtx-3070\\\\/7351563405.html\",\"16\":\"https:\\\\/\\\\/losangeles.craigslist.org\\\\/sfv\\\\/sop\\\\/d\\\\/glendale-eth-mining-rig-gpus-225mh-1\\\\/7351134077.html\",\"17\":\"https:\\\\/\\\\/losangeles.craigslist.org\\\\/sfv\\\\/sop\\\\/d\\\\/tarzana-evga-geforce-rtx-3070-ftw3\\\\/7353943830.html\",\"18\":\"https:\\\\/\\\\/losangeles.craigslist.org\\\\/sgv\\\\/sop\\\\/d\\\\/arcadia-nvidia-geforce-rtx-3070\\\\/7351674543.html\",\"19\":\"https:\\\\/\\\\/losangeles.craigslist.org\\\\/sfv\\\\/grq\\\\/d\\\\/rose-creek-trenchers-auger-drives\\\\/7356413909.html\",\"20\":\"https:\\\\/\\\\/losangeles.craigslist.org\\\\/lgb\\\\/sop\\\\/d\\\\/bell-evga-nvidia-1080-ti-founders\\\\/7352536389.html\",\"21\":\"https:\\\\/\\\\/losangeles.craigslist.org\\\\/lac\\\\/vgm\\\\/d\\\\/west-covina-xbox-series-512gb-digital\\\\/7355299350.html\",\"22\":\"https:\\\\/\\\\/losangeles.craigslist.org\\\\/lgb\\\\/wad\\\\/d\\\\/bellflower-wanted-intel-xeon-computer\\\\/7356022787.html\",\"23\":\"https:\\\\/\\\\/losangeles.craigslist.org\\\\/wst\\\\/sop\\\\/d\\\\/torrance-3060ti-graphics-card\\\\/7355835824.html\",\"24\":\"https:\\\\/\\\\/losangeles.craigslist.org\\\\/lac\\\\/sys\\\\/d\\\\/los-angeles-hp-omen-25l-with-or-without\\\\/7355838238.html\",\"25\":\"https:\\\\/\\\\/losangeles.craigslist.org\\\\/sfv\\\\/ele\\\\/d\\\\/burbank-asus-geforce-gtx-gb-gddr6-oc\\\\/7353259357.html\",\"26\":\"https:\\\\/\\\\/losangeles.craigslist.org\\\\/sfv\\\\/sop\\\\/d\\\\/north-hollywood-evga-rtx-2070-xc-gaming\\\\/7353259480.html\",\"27\":\"https:\\\\/\\\\/losangeles.craigslist.org\\\\/lac\\\\/wad\\\\/d\\\\/glendale-we-buy-business-data-center\\\\/7355688636.html\",\"28\":\"https:\\\\/\\\\/losangeles.craigslist.org\\\\/sfv\\\\/sop\\\\/d\\\\/van-nuys-evga-geforce-rtx-2070-super\\\\/7355646952.html\",\"29\":\"https:\\\\/\\\\/losangeles.craigslist.org\\\\/lgb\\\\/wad\\\\/d\\\\/bellflower-we-buy-intel-xeon-computer\\\\/7355531689.html\",\"30\":\"https:\\\\/\\\\/losangeles.craigslist.org\\\\/ant\\\\/sop\\\\/d\\\\/santa-clarita-evga-geforce-rtx-3090\\\\/7355449270.html\",\"31\":\"https:\\\\/\\\\/losangeles.craigslist.org\\\\/wst\\\\/sys\\\\/d\\\\/los-angeles-hp-omen-i9-9900k-16gb-with\\\\/7348567657.html\",\"32\":\"https:\\\\/\\\\/losangeles.craigslist.org\\\\/sgv\\\\/sop\\\\/d\\\\/la-puente-watt-power-supplies\\\\/7354964603.html\",\"33\":\"https:\\\\/\\\\/losangeles.craigslist.org\\\\/sgv\\\\/sop\\\\/d\\\\/pasadena-new-evga-geforce-rtx-3080-ti\\\\/7354942724.html\",\"34\":\"https:\\\\/\\\\/losangeles.craigslist.org\\\\/sgv\\\\/ele\\\\/d\\\\/studio-city-gigabyte-rx6800-xt-amd\\\\/7351621466.html\",\"35\":\"https:\\\\/\\\\/losangeles.craigslist.org\\\\/sfv\\\\/sop\\\\/d\\\\/agoura-hills-msi-gaming-trio-1080-ti-new\\\\/7346281189.html\",\"36\":\"https:\\\\/\\\\/losangeles.craigslist.org\\\\/sfv\\\\/sop\\\\/d\\\\/agoura-hills-evga-3080-ftw3-ultra-brand\\\\/7346283039.html\",\"37\":\"https:\\\\/\\\\/losangeles.craigslist.org\\\\/sfv\\\\/sop\\\\/d\\\\/agoura-hills-gigabyte-3080-gaming-oc-new\\\\/7346286794.html\",\"38\":\"https:\\\\/\\\\/losangeles.craigslist.org\\\\/sfv\\\\/sop\\\\/d\\\\/agoura-hills-evga-gtx-gb-ssc\\\\/7346725781.html\",\"39\":\"https:\\\\/\\\\/losangeles.craigslist.org\\\\/sfv\\\\/sop\\\\/d\\\\/north-hollywood-msi-5700-evoke-oc\\\\/7350106618.html\",\"40\":\"https:\\\\/\\\\/losangeles.craigslist.org\\\\/sgv\\\\/wad\\\\/d\\\\/los-angeles-we-buy-business-data-center\\\\/7354283619.html\",\"41\":\"https:\\\\/\\\\/losangeles.craigslist.org\\\\/lgb\\\\/wad\\\\/d\\\\/bellflower-we-buy-intel-xeon-computer\\\\/7353569045.html\",\"42\":\"https:\\\\/\\\\/losangeles.craigslist.org\\\\/lac\\\\/vgd\\\\/d\\\\/torrance-35in1-retro-video-game-console\\\\/7352527352.html\",\"43\":\"https:\\\\/\\\\/losangeles.craigslist.org\\\\/lgb\\\\/vgd\\\\/d\\\\/playa-vista-35in1-retro-video-game\\\\/7352464492.html\",\"44\":\"https:\\\\/\\\\/losangeles.craigslist.org\\\\/lac\\\\/wad\\\\/d\\\\/los-angeles-wanted-new-in-box-used\\\\/7351522231.html\",\"45\":\"https:\\\\/\\\\/losangeles.craigslist.org\\\\/lac\\\\/grq\\\\/d\\\\/rose-creek-trenchers-auger-drives\\\\/7351389088.html\",\"46\":\"https:\\\\/\\\\/losangeles.craigslist.org\\\\/wst\\\\/grq\\\\/d\\\\/rose-creek-trenchers-auger-drives\\\\/7351387935.html\",\"47\":\"https:\\\\/\\\\/losangeles.craigslist.org\\\\/sgv\\\\/wad\\\\/d\\\\/los-angeles-we-buy-business-data-center\\\\/7350720250.html\",\"48\":\"https:\\\\/\\\\/losangeles.craigslist.org\\\\/lgb\\\\/wad\\\\/d\\\\/bellflower-we-buy-intel-xeon-computer\\\\/7350304725.html\",\"49\":\"https:\\\\/\\\\/losangeles.craigslist.org\\\\/lac\\\\/wad\\\\/d\\\\/norwalk-wtb-computer-arrays-hard-drives\\\\/7349707970.html\",\"50\":\"https:\\\\/\\\\/losangeles.craigslist.org\\\\/lgb\\\\/vgd\\\\/d\\\\/manhattan-beach-35in1-retro-video-game\\\\/7349508110.html\",\"51\":\"https:\\\\/\\\\/losangeles.craigslist.org\\\\/lac\\\\/vgd\\\\/d\\\\/harbor-city-35in1-retro-video-game\\\\/7349496452.html\",\"52\":\"https:\\\\/\\\\/losangeles.craigslist.org\\\\/lac\\\\/wad\\\\/d\\\\/los-angeles-wtb-large-quantities-of\\\\/7349170416.html\",\"53\":\"https:\\\\/\\\\/losangeles.craigslist.org\\\\/wst\\\\/wad\\\\/d\\\\/hawthorne-we-buy-used-new-gaming\\\\/7348804047.html\",\"54\":\"https:\\\\/\\\\/losangeles.craigslist.org\\\\/sgv\\\\/wad\\\\/d\\\\/los-angeles-wanted-large-quantities\\\\/7348366640.html\",\"55\":\"https:\\\\/\\\\/losangeles.craigslist.org\\\\/lgb\\\\/wad\\\\/d\\\\/signal-hill-wtb-large-qtys-of-pcs\\\\/7348060535.html\",\"56\":\"https:\\\\/\\\\/losangeles.craigslist.org\\\\/sgv\\\\/grq\\\\/d\\\\/rose-creek-trenchers-auger-drives\\\\/7347908754.html\",\"57\":\"https:\\\\/\\\\/losangeles.craigslist.org\\\\/ant\\\\/grq\\\\/d\\\\/rose-creek-trenchers-auger-drives\\\\/7347908209.html\",\"58\":\"https:\\\\/\\\\/losangeles.craigslist.org\\\\/lac\\\\/wad\\\\/d\\\\/los-angeles-wtb-cisco-ncs2k-400g-xp\\\\/7347626951.html\",\"59\":\"https:\\\\/\\\\/losangeles.craigslist.org\\\\/sfv\\\\/wad\\\\/d\\\\/toluca-lake-we-buy-computer-processors\\\\/7347410495.html\",\"60\":\"https:\\\\/\\\\/losangeles.craigslist.org\\\\/lac\\\\/wad\\\\/d\\\\/compton-we-buy-cisco-asr1001-asr1002\\\\/7346779575.html\",\"61\":\"https:\\\\/\\\\/losangeles.craigslist.org\\\\/lac\\\\/wad\\\\/d\\\\/los-angeles-wanted-computer-intel\\\\/7346149861.html\",\"62\":\"https:\\\\/\\\\/losangeles.craigslist.org\\\\/sgv\\\\/wad\\\\/d\\\\/los-angeles-wanted-large-quantities\\\\/7344823639.html\",\"63\":\"https:\\\\/\\\\/losangeles.craigslist.org\\\\/lgb\\\\/vgd\\\\/d\\\\/newhall-35in1-retro-video-game-console\\\\/7344662790.html\",\"64\":\"https:\\\\/\\\\/losangeles.craigslist.org\\\\/lac\\\\/vgd\\\\/d\\\\/canyon-country-35in1-retro-video-game\\\\/7344645319.html\",\"65\":\"https:\\\\/\\\\/losangeles.craigslist.org\\\\/lac\\\\/wad\\\\/d\\\\/glendale-we-buy-business-data-center\\\\/7344617440.html\",\"66\":\"https:\\\\/\\\\/losangeles.craigslist.org\\\\/lgb\\\\/wad\\\\/d\\\\/bellflower-we-buy-intel-xeon-computer\\\\/7343043528.html\",\"67\":\"https:\\\\/\\\\/losangeles.craigslist.org\\\\/lgb\\\\/wad\\\\/d\\\\/bellflower-wanted-intel-xeon-computer\\\\/7342446582.html\",\"68\":\"https:\\\\/\\\\/orangecounty.craigslist.org\\\\/sop\\\\/d\\\\/irvine-asus-tuf-gaming-geforce-rtx-3070\\\\/7345997530.html\",\"69\":\"https:\\\\/\\\\/orangecounty.craigslist.org\\\\/sop\\\\/d\\\\/san-clemente-msi-ventus-3x-oc-nvidia\\\\/7351084681.html\",\"70\":\"https:\\\\/\\\\/orangecounty.craigslist.org\\\\/sop\\\\/d\\\\/irvine-3070-founders-edition-fe\\\\/7356286402.html\",\"71\":\"https:\\\\/\\\\/orangecounty.craigslist.org\\\\/sys\\\\/d\\\\/irvine-gaming-pc-desktop-5600x-rtx-3070\\\\/7352006444.html\",\"72\":\"https:\\\\/\\\\/orangecounty.craigslist.org\\\\/sop\\\\/d\\\\/irvine-msi-3070-ti-gaming-trio\\\\/7355116633.html\",\"73\":\"https:\\\\/\\\\/orangecounty.craigslist.org\\\\/sop\\\\/d\\\\/buena-park-msi-nvidia-geforce-rtx-3070\\\\/7344912087.html\",\"74\":\"https:\\\\/\\\\/orangecounty.craigslist.org\\\\/sop\\\\/d\\\\/irvine-nvidia-evga-ftw3-geforce-rtx\\\\/7348621229.html\",\"75\":\"https:\\\\/\\\\/orangecounty.craigslist.org\\\\/sop\\\\/d\\\\/huntington-beach-evga-rtx-3070-ti-ftw3\\\\/7355682588.html\",\"76\":\"https:\\\\/\\\\/orangecounty.craigslist.org\\\\/sys\\\\/d\\\\/irvine-eth-btc-crypto-mining-rig-rtx\\\\/7349459095.html\",\"77\":\"https:\\\\/\\\\/orangecounty.craigslist.org\\\\/sop\\\\/d\\\\/westminster-zotac-3070-ti-trinity-oc\\\\/7351244536.html\",\"78\":\"https:\\\\/\\\\/orangecounty.craigslist.org\\\\/sop\\\\/d\\\\/irvine-geforce-rtx-3070-ti\\\\/7354917055.html\",\"79\":\"https:\\\\/\\\\/orangecounty.craigslist.org\\\\/sop\\\\/d\\\\/irvine-3070-ti-1040-firm\\\\/7354869729.html\",\"80\":\"https:\\\\/\\\\/orangecounty.craigslist.org\\\\/ele\\\\/d\\\\/newport-beach-evga-xc3-geforce-rtx-3070\\\\/7348304370.html\",\"81\":\"https:\\\\/\\\\/orangecounty.craigslist.org\\\\/sop\\\\/d\\\\/irvine-evga-3070-xc3-ultra\\\\/7354780802.html\",\"82\":\"https:\\\\/\\\\/orangecounty.craigslist.org\\\\/sop\\\\/d\\\\/orange-evga-geforce-rtx-3070-xc3-ultra\\\\/7351977843.html\",\"83\":\"https:\\\\/\\\\/orangecounty.craigslist.org\\\\/sys\\\\/d\\\\/huntington-beach-gtx-3070-gaming-pc\\\\/7345043774.html\",\"84\":\"https:\\\\/\\\\/orangecounty.craigslist.org\\\\/sop\\\\/d\\\\/anaheim-aorus-geforce-rtx-3070-master\\\\/7345466760.html\",\"85\":\"https:\\\\/\\\\/orangecounty.craigslist.org\\\\/sop\\\\/d\\\\/costa-mesa-rtx-3070-ti-rtx-3060-ti\\\\/7353975133.html\",\"86\":\"https:\\\\/\\\\/orangecounty.craigslist.org\\\\/sop\\\\/d\\\\/lakewood-msi-geforce-rtx-3070-ti-ventus\\\\/7353929919.html\",\"87\":\"https:\\\\/\\\\/orangecounty.craigslist.org\\\\/sop\\\\/d\\\\/orange-asus-ko-nvidia-geforce-rtx-3070\\\\/7344341111.html\",\"88\":\"https:\\\\/\\\\/orangecounty.craigslist.org\\\\/sop\\\\/d\\\\/irvine-evga-geforce-rtx-3070-ti-ftw3\\\\/7350671197.html\",\"89\":\"https:\\\\/\\\\/orangecounty.craigslist.org\\\\/sop\\\\/d\\\\/irvine-evga-rtx-3070-ti\\\\/7341039660.html\",\"90\":\"https:\\\\/\\\\/orangecounty.craigslist.org\\\\/sop\\\\/d\\\\/orange-asus-ko-nvidia-geforce-rtx-3070\\\\/7339929718.html\",\"91\":\"https:\\\\/\\\\/orangecounty.craigslist.org\\\\/sop\\\\/d\\\\/foothill-ranch-asus-geforce-rtx-3070\\\\/7345003512.html\",\"92\":\"https:\\\\/\\\\/orangecounty.craigslist.org\\\\/sys\\\\/d\\\\/irvine-rtx-3070-gaming-laptop-asus-tuf\\\\/7349481475.html\",\"93\":\"https:\\\\/\\\\/orangecounty.craigslist.org\\\\/tro\\\\/d\\\\/buena-park-free\\\\/7346805634.html\",\"94\":\"https:\\\\/\\\\/orangecounty.craigslist.org\\\\/sop\\\\/d\\\\/tustin-3070-ti\\\\/7346333928.html\",\"95\":\"https:\\\\/\\\\/orangecounty.craigslist.org\\\\/sop\\\\/d\\\\/yorba-linda-asus-tuf-geforce-rtx-3070\\\\/7345963995.html\",\"96\":\"https:\\\\/\\\\/orangecounty.craigslist.org\\\\/sop\\\\/d\\\\/irvine-nvidia-geforce-rtx-3070-fe\\\\/7345581877.html\",\"97\":\"https:\\\\/\\\\/orangecounty.craigslist.org\\\\/sop\\\\/d\\\\/santa-ana-nvidia-rtx-3070-founder\\\\/7345580350.html\",\"98\":\"https:\\\\/\\\\/orangecounty.craigslist.org\\\\/sys\\\\/d\\\\/la-habra-dell-optiplex-3070-micro\\\\/7345559997.html\",\"99\":\"https:\\\\/\\\\/inlandempire.craigslist.org\\\\/ele\\\\/d\\\\/corona-gaming-trio-geforce-rtx-3070ti\\\\/7356676612.html\",\"100\":\"https:\\\\/\\\\/inlandempire.craigslist.org\\\\/ele\\\\/d\\\\/san-bernardino-nvidia-rtx-3070-asus\\\\/7355359079.html\",\"101\":\"https:\\\\/\\\\/inlandempire.craigslist.org\\\\/sop\\\\/d\\\\/perris-zotac-rtx-3070-ti-trinity-oc\\\\/7354256674.html\",\"102\":\"https:\\\\/\\\\/inlandempire.craigslist.org\\\\/syd\\\\/d\\\\/ontario-cyberpower-gaming-pc-sale\\\\/7353074762.html\",\"103\":\"https:\\\\/\\\\/inlandempire.craigslist.org\\\\/sop\\\\/d\\\\/rialto-gtx-3070\\\\/7352491568.html\",\"104\":\"https:\\\\/\\\\/inlandempire.craigslist.org\\\\/syd\\\\/d\\\\/ontario-cyberpower-gaming-pc-sale\\\\/7352202542.html\",\"105\":\"https:\\\\/\\\\/inlandempire.craigslist.org\\\\/syd\\\\/d\\\\/ontario-amd-gamingpc-gamer-master-r7\\\\/7352200215.html\",\"106\":\"https:\\\\/\\\\/inlandempire.craigslist.org\\\\/sys\\\\/d\\\\/phelan-gaming-pc-k-3070-ti\\\\/7351655650.html\",\"107\":\"https:\\\\/\\\\/inlandempire.craigslist.org\\\\/ele\\\\/d\\\\/phelan-gaming-pc-k-with-3070-ti\\\\/7351655533.html\",\"108\":\"https:\\\\/\\\\/inlandempire.craigslist.org\\\\/sop\\\\/d\\\\/phelan-msi-gaming-trio-3070-ti-trade\\\\/7351635149.html\",\"109\":\"https:\\\\/\\\\/inlandempire.craigslist.org\\\\/syd\\\\/d\\\\/ontario-amd-gamingpc-gamer-master\\\\/7351446949.html\",\"110\":\"https:\\\\/\\\\/inlandempire.craigslist.org\\\\/sop\\\\/d\\\\/menifee-rtx-3070-evga-xc3-ultra-non-lhr\\\\/7347403225.html\",\"111\":\"https:\\\\/\\\\/inlandempire.craigslist.org\\\\/ele\\\\/d\\\\/corona-3070-non-lhr\\\\/7346218369.html\",\"112\":\"https:\\\\/\\\\/ventura.craigslist.org\\\\/sys\\\\/d\\\\/newbury-park-lenovo-legion-pro-amd-16\\\\/7349926105.html\",\"113\":\"https:\\\\/\\\\/ventura.craigslist.org\\\\/sys\\\\/d\\\\/simi-valley-top-end-4k-gaming-pc-amd\\\\/7352127420.html\",\"114\":\"https:\\\\/\\\\/ventura.craigslist.org\\\\/atq\\\\/d\\\\/oxnard-evga-rtx-3070-graphics-card\\\\/7349618113.html\",\"115\":\"https:\\\\/\\\\/santabarbara.craigslist.org\\\\/for\\\\/d\\\\/goleta-very-large-mosler-safe\\\\/7354304794.html\",\"116\":\"https:\\\\/\\\\/santabarbara.craigslist.org\\\\/ele\\\\/d\\\\/santa-barbara-gaming-pc-graphics-card\\\\/7350078831.html\",\"117\":\"https:\\\\/\\\\/santabarbara.craigslist.org\\\\/sop\\\\/d\\\\/santa-barbara-evga-rtx-3070-ftw3-ultra\\\\/7350064962.html\",\"118\":\"https:\\\\/\\\\/bakersfield.craigslist.org\\\\/sys\\\\/d\\\\/bakersfield-gaming-desktop-3070-with\\\\/7354922607.html\",\"119\":\"https:\\\\/\\\\/bakersfield.craigslist.org\\\\/ele\\\\/d\\\\/bakersfield-rtx-3070-asus-tuf-oc\\\\/7354923299.html\"},\"location\":{\"0\":\"(Burbank)\",\"1\":\"(Los Angeles)\",\"2\":\"(Northridge)\",\"3\":\"(Northridge)\",\"4\":\"(Century City)\",\"5\":\"(Los Angeles)\",\"6\":\"(Los Angeles)\",\"7\":\"(Torrance)\",\"8\":\"(Arcadia)\",\"9\":\"(Arcadia)\",\"10\":\"(van nuys)\",\"11\":\"(Simi Valley)\",\"12\":\"(Los Angeles)\",\"13\":\"(Arcadia)\",\"14\":\"(Arcadia)\",\"15\":\"(Pasadena)\",\"16\":\"(Glendale\\\\/Burbank\\\\/Pasadena\\\\/North Hollywood)\",\"17\":\"(Tarzana)\",\"18\":\"(Arcadia)\",\"19\":\"(Nationwide)\",\"20\":\"pic\",\"21\":\"(West Covina)\",\"22\":\"(WE BUY INTEL, CISCO, HPE, AMD, SK\\\\/HYNIX, SAMSUNG, DELL & MOR)\",\"23\":\"(Torrance)\",\"24\":\"(KTOWN)\",\"25\":\"(Burbank\\\\/Noho)\",\"26\":\"(Burbank\\\\/Noho)\",\"27\":\"(WE BUY COMPUTER NETWORKING, SERVERS, MEMORY, SWITCHES & MORE)\",\"28\":\"(Van Nuys)\",\"29\":\"(WE BUY COMPUTER PROCESSORS\\\\/CPU\\\\u2019S, SERVER\\\\/PC\\\\/LAPTOP MEMORY)\",\"30\":\"(Santa Clarita)\",\"31\":\"pic\",\"32\":\"pic\",\"33\":\"(pasadena)\",\"34\":\"(North Hollywood)\",\"35\":\"pic\",\"36\":\"pic\",\"37\":\"pic\",\"38\":\"pic\",\"39\":\"(North Hollywood)\",\"40\":\"(WE BUY CISCO, JUNIPER, INTEL, EMC, ARISTA, DELL, HPE & MORE.)\",\"41\":\"(WE BUY COMPUTER PROCESSORS\\\\/CPU\\\\u2019S, SERVER\\\\/PC\\\\/LAPTOP MEMORY)\",\"42\":\"(23,003 games+same day shipping central LA 213\\\\/323 )\",\"43\":\"(23,003 games+same day shipping long beach \\\\/ 562 )\",\"44\":\"(WE BUY CISCO, JUNIPER, INTEL, EMC, ARISTA, DELL, HPE & MORE. central LA 213\\\\/323 )\",\"45\":\"(Nationwide central LA 213\\\\/323 )\",\"46\":\"(Nationwide westside-southbay-310 )\",\"47\":\"(WE BUY CISCO, JUNIPER, INTEL, EMC, NETAPP, DELL, HPE & MORE. san gabriel valley )\",\"48\":\"(WE BUY COMPUTER PROCESSORS\\\\/CPU\\\\u2019S, SERVER\\\\/PC\\\\/LAPTOP MEMORY long beach \\\\/ 562 )\",\"49\":\"(WE BUY CISCO, EMC, NETAPP, IBM, DELL, HPE, INTEL & LOTS MORE central LA 213\\\\/323 )\",\"50\":\"(23,003 games+same day shipping long beach \\\\/ 562 )\",\"51\":\"(23,003 games+same day shipping central LA 213\\\\/323 )\",\"52\":\"(WE BUY EMC, NETAPP, HPE, IBM, INTEL, SAMSUNG & MANY OTHERS! central LA 213\\\\/323 )\",\"53\":\"(WE BUY DELL, HP, HPE, IBM, MSI, NVIDIA, TESLA, AMD & OTHERS westside-southbay-310 )\",\"54\":\"(WE BUY CISCO, JUNIPER, INTEL, EMC, ARISTA, DELL, HPE & MORE. san gabriel valley )\",\"55\":\"(WE BUY INTEL, DELL, HPE, CISCO, JUNIPER, ARISTA & LOTS MORE! long beach \\\\/ 562 )\",\"56\":\"(Nationwide san gabriel valley )\",\"57\":\"(Nationwide antelope valley )\",\"58\":\"(WE BUY CISCO, JUNIPER, DELL, INTEL, HPE, EMC, APPLE & MORE! central LA 213\\\\/323 )\",\"59\":\"(WE BUY CISCO, INTEL, DELL, HPE, EMC, NETAPP, JUNIPER, IBM & san fernando valley )\",\"60\":\"(WANTED COMPUTER NETWORKING, SWITCHES, ROUTERS, SERVERS &MORE central LA 213\\\\/323 )\",\"61\":\"(WE BUY INTEL, DELL, HPE, CISCO, JUNIPER, ARISTA & LOTS MORE! central LA 213\\\\/323 )\",\"62\":\"(WE BUY INTEL, DELL, HPE, CISCO, JUNIPER, ARISTA & LOTS MORE! san gabriel valley )\",\"63\":\"(23,003 games+same day shipping long beach \\\\/ 562 )\",\"64\":\"(23,003 games+same day shipping central LA 213\\\\/323 )\",\"65\":\"(WE BUY COMPUTER NETWORKING, SERVERS, MEMORY, SWITCHES & MORE central LA 213\\\\/323 )\",\"66\":\"(WE BUY COMPUTER PROCESSORS\\\\/CPU\\\\u2019S, SERVER\\\\/PC\\\\/LAPTOP MEMORY long beach \\\\/ 562 )\",\"67\":\"(WE BUY INTEL, CISCO, HPE, AMD, SK\\\\/HYNIX, SAMSUNG, DELL & MOR long beach \\\\/ 562 )\",\"68\":\"(orc > IRVINE)\",\"69\":\"(orc > San Clemente)\",\"70\":\"(orc)\",\"71\":\"(orc)\",\"72\":\"(orc)\",\"73\":\"(orc > cypress)\",\"74\":\"(orc > Irvine)\",\"75\":\"(orc > Huntington Beach)\",\"76\":\"(orc > STore Built, Warranty, Training included!)\",\"77\":\"(orc > Westminster)\",\"78\":\"(orc > Irvine, Ca)\",\"79\":\"(orc > Irvine)\",\"80\":\"(orc > Shop in Newport near John Wayne)\",\"81\":\"(orc > Irvine)\",\"82\":\"(orc)\",\"83\":\"(orc > Huntington Beach)\",\"84\":\"(orc > Anaheim)\",\"85\":\"(orc > Costa Mesa)\",\"86\":\"(orc > Long Beach)\",\"87\":\"(orc)\",\"88\":\"(orc > Irvine  )\",\"89\":\"(orc >   )\",\"90\":\"(orc >   )\",\"91\":\"(orc > Irvine  )\",\"92\":\"(orc > Irvine  )\",\"93\":\"(orc > Anaheim  )\",\"94\":\"(orc >   )\",\"95\":\"(orc > Yorba Linda  )\",\"96\":\"(orc > Irvine  )\",\"97\":\"(orc > Santa Ana  )\",\"98\":\"(orc > La Habra  )\",\"99\":\"(inl > Corona)\",\"100\":\"(inl > San Bernardino)\",\"101\":\"(inl > Perris)\",\"102\":\"(inl > No Credit Needed Financing-Quick & Easy Approval- Low Paymnt  )\",\"103\":\"(inl > Rialto  )\",\"104\":\"(inl > No Credit Needed Financing-Quick & Easy Approval- Low Paymnt  )\",\"105\":\"(inl > No Credit Needed Financing-Quick & Easy Approval- Low Paymnt  )\",\"106\":\"(inl >   )\",\"107\":\"(inl >   )\",\"108\":\"(inl >   )\",\"109\":\"(inl > NO CREDIT NEEDED FINANCING-Quick & Easy Approval- LOW PAYMT  )\",\"110\":\"(inl >   )\",\"111\":\"(inl > Corona  )\",\"112\":\"(oxr > Moorpark)\",\"113\":\"(oxr > Simi Valley)\",\"114\":\"(oxr > Oxnard  )\",\"115\":\"(sba > Santa Barbara, Goleta)\",\"116\":\"(sba > Santa Barbara  )\",\"117\":\"(sba > SANTA BARBARA)\",\"118\":\"(bak > Bakersfield)\",\"119\":\"(bak > Bakersfield)\"}}'"
      ]
     },
     "execution_count": 204,
     "metadata": {},
     "output_type": "execute_result"
    }
   ],
   "source": [
    "df.to_json()"
   ]
  },
  {
   "cell_type": "code",
   "execution_count": 172,
   "metadata": {},
   "outputs": [
    {
     "name": "stdout",
     "output_type": "stream",
     "text": [
      " * Serving Flask app \"__main__\" (lazy loading)\n",
      " * Environment: production\n",
      "   WARNING: This is a development server. Do not use it in a production deployment.\n",
      "   Use a production WSGI server instead.\n",
      " * Debug mode: on\n"
     ]
    },
    {
     "name": "stderr",
     "output_type": "stream",
     "text": [
      " * Restarting with windowsapi reloader\n"
     ]
    },
    {
     "ename": "SystemExit",
     "evalue": "1",
     "output_type": "error",
     "traceback": [
      "An exception has occurred, use %tb to see the full traceback.\n",
      "\u001b[1;31mSystemExit\u001b[0m\u001b[1;31m:\u001b[0m 1\n"
     ]
    },
    {
     "name": "stderr",
     "output_type": "stream",
     "text": [
      "C:\\Users\\raulc\\anaconda3\\lib\\site-packages\\IPython\\core\\interactiveshell.py:3339: UserWarning: To exit: use 'exit', 'quit', or Ctrl-D.\n",
      "  warn(\"To exit: use 'exit', 'quit', or Ctrl-D.\", stacklevel=1)\n"
     ]
    }
   ],
   "source": [
    "#!/usr/bin/python\n",
    "\n",
    "from flask import Flask, Response\n",
    "app = Flask(__name__)\n",
    "\n",
    "@app.route(\"/\")\n",
    "def hello():\n",
    "    return '''\n",
    "        <html><body>\n",
    "        Hello. <a href=\"/getPlotCSV\">Click me.</a>\n",
    "        </body></html>\n",
    "        '''\n",
    "\n",
    "@app.route(\"/getPlotCSV\")\n",
    "def getPlotCSV():\n",
    "    # with open(\"outputs/Adjacency.csv\") as fp:\n",
    "    #     csv = fp.read()\n",
    "    csv = '1,2,3\\n4,5,6\\n'\n",
    "    return Response(\n",
    "        csv,\n",
    "        mimetype=\"text/csv\",\n",
    "        headers={\"Content-disposition\":\n",
    "                 \"attachment; filename=myplot.csv\"})\n",
    "\n",
    "\n",
    "app.run(debug=True)"
   ]
  },
  {
   "cell_type": "code",
   "execution_count": 194,
   "metadata": {},
   "outputs": [
    {
     "name": "stdout",
     "output_type": "stream",
     "text": [
      "{'Name': [0, 1, 2, 3, 4, 5, 6, 7, 8, 9]}\n"
     ]
    }
   ],
   "source": [
    "my_dict = {\"Name\": []}\n",
    "for i in range(10):\n",
    "    my_dict[\"Name\"].append(i)\n",
    "print(my_dict)"
   ]
  }
 ],
 "metadata": {
  "kernelspec": {
   "display_name": "Python 3",
   "language": "python",
   "name": "python3"
  },
  "language_info": {
   "codemirror_mode": {
    "name": "ipython",
    "version": 3
   },
   "file_extension": ".py",
   "mimetype": "text/x-python",
   "name": "python",
   "nbconvert_exporter": "python",
   "pygments_lexer": "ipython3",
   "version": "3.7.6"
  }
 },
 "nbformat": 4,
 "nbformat_minor": 4
}
